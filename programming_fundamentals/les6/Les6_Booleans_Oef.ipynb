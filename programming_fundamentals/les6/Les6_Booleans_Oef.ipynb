{
 "cells": [
  {
   "cell_type": "markdown",
   "id": "fb086e2d",
   "metadata": {
    "id": "fb086e2d"
   },
   "source": [
    "# Les 6: Boolean data type\n",
    "\n",
    "## Opgaven"
   ]
  },
  {
   "cell_type": "markdown",
   "id": "rWHumQMeUVIO",
   "metadata": {
    "id": "rWHumQMeUVIO"
   },
   "source": [
    "### Oefening 1\n",
    "Ga het resultaat na van de volgende expressies\n",
    "\n",
    "- (0 <= a) and (a <= 5) waarbij a = 5\n",
    "- (X > 2) or (X > 5) waarbij X = 3\n",
    "- 2 > 5 or 6 * 2 <= 12 and 7 < 3\n",
    "- True and False or True and False"
   ]
  },
  {
   "cell_type": "code",
   "execution_count": 2,
   "id": "vPK5lyCPquDl",
   "metadata": {
    "id": "vPK5lyCPquDl"
   },
   "outputs": [
    {
     "name": "stdout",
     "output_type": "stream",
     "text": [
      "True\n",
      "True\n",
      "False\n",
      "False\n"
     ]
    }
   ],
   "source": [
    "print((0 <= 5) and (5 <= 5))\n",
    "print(3 > 2) or (3 > 5)\n",
    "print(2 > 5 or 6 * 2 <= 12 and 7 < 3)\n",
    "print(True and False or True and False)\n"
   ]
  },
  {
   "cell_type": "markdown",
   "id": "b5f15f16",
   "metadata": {
    "id": "b5f15f16"
   },
   "source": [
    "### Oefening 2\n",
    "\n",
    "- Schrijf een functie genaamd `deelbaar` die een getal accepteert en `True` retourneert als het getal even is (deelbaar door 2) en `False` als het oneven is.\n",
    "- Breid deze functie uit met 1 extra input. De functie gaat na of het eerste getal deelbaar is door het tweede getal. Doe dit door je vorige functie te herschrijven met een optionele parameter, waardoor je deze ook nog steeds met 1 parameter kan aanroepen en de deelbaarheid door 2 getest wordt.\n",
    "\n",
    "\n"
   ]
  },
  {
   "cell_type": "code",
   "execution_count": 4,
   "id": "g56dcQodqwUn",
   "metadata": {
    "id": "g56dcQodqwUn"
   },
   "outputs": [
    {
     "name": "stdout",
     "output_type": "stream",
     "text": [
      "True\n",
      "False\n"
     ]
    }
   ],
   "source": [
    "def deelbaar(getal, getal2 = 2):\n",
    "    return True if ((getal % getal2) == 0) else False\n",
    "\n",
    "print(deelbaar(10))\n",
    "print(deelbaar(5,3))"
   ]
  },
  {
   "cell_type": "markdown",
   "id": "a906b274",
   "metadata": {
    "id": "a906b274"
   },
   "source": [
    "### Oefening 3"
   ]
  },
  {
   "cell_type": "markdown",
   "id": "bc965b58",
   "metadata": {
    "id": "bc965b58"
   },
   "source": [
    "Schrijf een functie `groter_dan` die 2 twee inputs ontvangt en controleert of het eerste strikt groter is dan het tweede. Je functie moet een boolean-waarde teruggeven.\n",
    "Test voor welke verschillende types deze methode werkt."
   ]
  },
  {
   "cell_type": "code",
   "execution_count": 5,
   "id": "YlXjKAFZqyqe",
   "metadata": {
    "id": "YlXjKAFZqyqe"
   },
   "outputs": [
    {
     "name": "stdout",
     "output_type": "stream",
     "text": [
      "True\n",
      "False\n",
      "True\n",
      "True\n"
     ]
    }
   ],
   "source": [
    "def groter_dan(input1, input2):\n",
    "    return input1 > input2\n",
    "\n",
    "print(groter_dan(2,1))\n",
    "print(groter_dan(\"a\",\"b\"))\n",
    "print(groter_dan(True, False))\n",
    "print(groter_dan(2.3,1.5))"
   ]
  },
  {
   "cell_type": "markdown",
   "id": "9f8bf5bc",
   "metadata": {
    "id": "9f8bf5bc"
   },
   "source": [
    "### Oefening 4"
   ]
  },
  {
   "cell_type": "markdown",
   "id": "48b2f470",
   "metadata": {
    "id": "48b2f470"
   },
   "source": [
    "Schrijf een functie die controleert of een ingevoerde string een geldige URL is (het moet beginnen met \"http://\" of \"https://\")."
   ]
  },
  {
   "cell_type": "code",
   "execution_count": 10,
   "id": "EOX07LjHq1fM",
   "metadata": {
    "id": "EOX07LjHq1fM"
   },
   "outputs": [
    {
     "name": "stdout",
     "output_type": "stream",
     "text": [
      "True\n",
      "False\n"
     ]
    }
   ],
   "source": [
    "import string as s\n",
    "\n",
    "def geldig_url(url):\n",
    "    return True if ((url.startswith(\"http://\")) or (url.startswith(\"https://\"))) else False\n",
    "\n",
    "print(geldig_url(\"https://p.cygnus.cc.kuleuven.be/webapps/blackboard/content/listContent.jsp?course_id=_1175597_1&content_id=_38224253_1\"))\n",
    "print(geldig_url(\"\"))"
   ]
  },
  {
   "cell_type": "markdown",
   "id": "3681eb5e-06a4-4729-b1cb-b9f24edfc94e",
   "metadata": {
    "id": "3681eb5e-06a4-4729-b1cb-b9f24edfc94e"
   },
   "source": [
    "### Oefening 5"
   ]
  },
  {
   "cell_type": "markdown",
   "id": "4a82a726-09e3-4e93-8441-4427dbcc0290",
   "metadata": {
    "id": "4a82a726-09e3-4e93-8441-4427dbcc0290"
   },
   "source": [
    "Maak een script dat controleert of een ingevoerde string een geldig e-mailadres is (controleer simpelweg of er een \"@\" en een \".\" in de string zitten). Het moet een boolean-waarde teruggeven."
   ]
  },
  {
   "cell_type": "code",
   "execution_count": 19,
   "id": "_WsCgvkXq3fm",
   "metadata": {
    "id": "_WsCgvkXq3fm"
   },
   "outputs": [
    {
     "name": "stdout",
     "output_type": "stream",
     "text": [
      "True\n",
      "False\n"
     ]
    }
   ],
   "source": [
    "def geldig_email(email = \"\"):\n",
    "    return True if ((email.find(\"@\") != -1) and (email.find(\".\") != -1)) else False\n",
    "\n",
    "print(geldig_email(\"art@gmail.com\"))\n",
    "print(geldig_email(\"art@gmail\"))\n"
   ]
  },
  {
   "cell_type": "markdown",
   "id": "WkXoy0yYKnhZ",
   "metadata": {
    "id": "WkXoy0yYKnhZ"
   },
   "source": [
    "### Oefening 6\n",
    "Los op via booleaanse operatoren:\n",
    "\n",
    "- Schrijf een Python functie die nagaat of 2 float getallen hetzelfde teken hebben.\n",
    "\n",
    "\n"
   ]
  },
  {
   "cell_type": "code",
   "execution_count": 28,
   "id": "QP6GEf5Nq6aR",
   "metadata": {
    "id": "QP6GEf5Nq6aR"
   },
   "outputs": [
    {
     "name": "stdout",
     "output_type": "stream",
     "text": [
      "True\n",
      "False\n"
     ]
    }
   ],
   "source": [
    "def zelfde_teken(getal1, getal2):\n",
    "    getal1 /= abs(getal1)\n",
    "    getal2 /= abs(getal2)\n",
    "\n",
    "    return True if (getal1 == getal2) else False\n",
    "print(zelfde_teken(-1, -5))\n",
    "print(zelfde_teken(-1, 5))\n"
   ]
  },
  {
   "cell_type": "markdown",
   "id": "14b1c795",
   "metadata": {
    "id": "14b1c795"
   },
   "source": [
    "### Oefening 7"
   ]
  },
  {
   "cell_type": "markdown",
   "id": "4b146583",
   "metadata": {
    "id": "4b146583"
   },
   "source": [
    "Schrijf een functie die controleert of een gegeven jaar een schrikkeljaar is. Elk vierde jaar is een schrikkeljaar behalve de eeuwjaren, tenzij deze deelbaar is door 400. Laat je functie een boolean-waarde teruggeven. Je maakt hier geen gebruik van if-testen."
   ]
  },
  {
   "cell_type": "code",
   "execution_count": 31,
   "id": "Ar6ihHcAq-lx",
   "metadata": {
    "id": "Ar6ihHcAq-lx"
   },
   "outputs": [
    {
     "name": "stdout",
     "output_type": "stream",
     "text": [
      "False\n"
     ]
    }
   ],
   "source": [
    "def schrikkeljaar(jaar):\n",
    "    return True if ((jaar%4 == 0) and (jaar%400 != 0) and (jaar%100 != 0))else False\n",
    "\n",
    "print(schrikkeljaar(2023))"
   ]
  },
  {
   "cell_type": "markdown",
   "id": "4d8039a8-c676-4866-9c86-603028ba6ecc",
   "metadata": {
    "id": "4d8039a8-c676-4866-9c86-603028ba6ecc"
   },
   "source": [
    "### Oefening 8\n",
    "\n"
   ]
  },
  {
   "cell_type": "markdown",
   "id": "1858b564-899e-4b0c-9147-0d7f1548b9e1",
   "metadata": {
    "id": "1858b564-899e-4b0c-9147-0d7f1548b9e1"
   },
   "source": [
    "- Schrijf een functie `alleen_cijfers` die controleert of een ingevoerde string alleen uit cijfers bestaat.\n",
    "- Schrijf een functie `alleen_letters` die controleert of een ingevoerde string alleen uit letters van het alfabet bestaat.\n",
    "- Schrijf een functie `alleen_letters_en_cijfers` die controleert of een ingevoerde string zowel alfabetische als numerieke karakters bevat.\n",
    "\n",
    "Doe dit aan de hand van stringmethoden, je hoeft geen loop te schrijven. Eventueel kan je ook werken met reguliere expressies (module re)\n"
   ]
  },
  {
   "cell_type": "code",
   "execution_count": 37,
   "id": "DYPALIzKrCUX",
   "metadata": {
    "id": "DYPALIzKrCUX"
   },
   "outputs": [
    {
     "name": "stdout",
     "output_type": "stream",
     "text": [
      "True\n",
      "True\n",
      "True\n"
     ]
    }
   ],
   "source": [
    "def alleen_cijfers(string):\n",
    "    return string.isnumeric()\n",
    "\n",
    "def alleen_letters(string):\n",
    "    return string.isalpha()\n",
    "\n",
    "def alleen_letters_cijfers(string):\n",
    "    return string.isalnum()\n",
    "\n",
    "print(alleen_cijfers(\"2\"))\n",
    "print(alleen_letters(\"a\"))\n",
    "print(alleen_letters_cijfers(\"a2\"))"
   ]
  },
  {
   "cell_type": "markdown",
   "id": "b8d67414",
   "metadata": {
    "id": "b8d67414"
   },
   "source": [
    "### Oefening 9"
   ]
  },
  {
   "cell_type": "markdown",
   "id": "34a615d4",
   "metadata": {
    "id": "34a615d4"
   },
   "source": [
    "Schrijf een functie die controleert of een ingevoerd woord of zin een palindroom is. Een palindroom is een woord of zin die identiek blijft of je het nu vooruit of achterstevoren leest. Voorbeelden van palindromen zijn:\n",
    "- meetsysteem\n",
    "- koortsmeetsysteemstrook\n",
    "- pa, al ski jij, ik slaap\n",
    "- Lezen is in, ezel\n",
    "- A man a plan a canal Panama\n",
    "\n",
    "Merk op, dat je bij de zinnen, geen rekening mag houden met hoofdletters versus kleine letters, spaties en leestekens. Zorg dat je functie ook hierop werkt. Schrijf dit zonder if-testen of loops."
   ]
  },
  {
   "cell_type": "code",
   "execution_count": 48,
   "id": "Hp1CihjArFud",
   "metadata": {
    "id": "Hp1CihjArFud"
   },
   "outputs": [
    {
     "name": "stdout",
     "output_type": "stream",
     "text": [
      "True\n"
     ]
    }
   ],
   "source": [
    "import string\n",
    "\n",
    "def palidroom(zin = \"\"):\n",
    "    zin = zin.lower().strip().translate(str.maketrans(\"\",\"\", string.punctuation))\n",
    "    zin_reverse = zin[::-1]\n",
    "    return True if zin == zin_reverse else False\n",
    "\n",
    "print(palidroom(\"meetsysteem.\"))"
   ]
  },
  {
   "cell_type": "markdown",
   "id": "egr3F6LzMINe",
   "metadata": {
    "id": "egr3F6LzMINe"
   },
   "source": [
    "### Oefening 10\n",
    "\n",
    "De algemene vorm van een vierkantvergelijking is als volgt:\n",
    "$$\n",
    "ax^2 + bx + c = 0\n",
    "$$\n",
    "Om na te gaan of er reële oplossingen bestaan, bereken je typisch de discriminant gegeven door:\n",
    "$$\n",
    "D = b^2 - 4ac\n",
    "$$\n",
    "Schrijf een functie die bepaalt of een vierkantsvergelijking (ingegeven door de 3 float waarden a, b en c) reële oplossingen heeft of niet. Dit is het geval wanneer D positief is of nul. De oplossingen zelf hoef je niet te berekenen.\n"
   ]
  },
  {
   "cell_type": "code",
   "execution_count": 1,
   "id": "xGIPoliNrHy2",
   "metadata": {
    "id": "xGIPoliNrHy2"
   },
   "outputs": [
    {
     "name": "stdout",
     "output_type": "stream",
     "text": [
      "False\n"
     ]
    }
   ],
   "source": [
    "def vierkantsvergelijking(a, b, c):\n",
    "    D = b**2 - 4*a*c\n",
    "    return D >= 0\n",
    "\n",
    "print(vierkantsvergelijking(1,2,3))"
   ]
  },
  {
   "cell_type": "markdown",
   "id": "5e6aa495-c722-4c24-a029-328a890218d1",
   "metadata": {
    "id": "5e6aa495-c722-4c24-a029-328a890218d1"
   },
   "source": [
    "### Oefening 11"
   ]
  },
  {
   "cell_type": "markdown",
   "id": "2be5684b-aec3-430b-a4da-bfdee4b09e41",
   "metadata": {
    "id": "2be5684b-aec3-430b-a4da-bfdee4b09e41"
   },
   "source": [
    "Beschouw de volgende logische uitspraken :\n",
    "\n",
    "- uitspraak 1: \"Jan komt als Marie of Anne komt.\"\n",
    "\n",
    "\n",
    "- uitspraak 2: \"Anne komt als Marie niet komt\"\n",
    "\n",
    "\n",
    "- uitspraak 3: \"Jan komt niet als Anne komt\"\n",
    "\n",
    "Gegegeven de proposities:\n",
    "- m = \"Marie komt\"\n",
    "- a = \"Anne komt\"\n",
    "- j = \"Jan komt\"\n",
    "\n",
    "kan je deze 3 uitspraken omzetten naar de taal van de propositielogica:\n",
    "\n",
    "- uitspraak 1:  $((m \\vee a) \\to j)$  wat logisch equivalent is met $\\neg (m \\vee a) \\vee j $\n",
    "\n",
    "- uitspraak 2: $\\neg m \\to a$ wat logisch equivalent is met $m \\vee a$\n",
    "\n",
    "- uitspraak 3: $a \\to \\neg j$ wat logisch equivalent is met $\\neg (a \\wedge j)$\n",
    "\n",
    "Bestaat er een waardering, dit is een logische waarde voor proposities $m,a$ en $j$ waarvoor de 3 uitspraken samen waar zijn?\n",
    "Schrijf een functie in Python die gegeven een waardering dit nagaat.\n",
    "Gebruik de logische operatoren om de waarden uit te rekenen. De eerste 2 waarderingen (de eerste 2 lijnen) uit onderstaande waardentabel geven alvast aan dat onder deze waarden de 3 de uitspraken niet samen waar worden. Kan je waarderingen vinden waarvoor dit wel zo is?\n",
    "\n",
    "\n",
    "\n",
    "<center>\n",
    "\n",
    "  |    waarderingen             |                    uitspraken|\n",
    "  |:--------------------|----------------------------:|\n",
    "\n",
    "\n",
    "\n",
    "\n",
    "   | m   |  a   |   j   | uitspraak1|uitspraak 2| uitspraak 3|\n",
    "   |:---:|:----:|:-----:|:---------:|:---------:|:----------:|\n",
    "   |true | true | true  |  true |  true|  false|\n",
    "   |true | true | false | false | true |  true |\n",
    "   |true | false| true |                 \n",
    "   |true |    false |   false |\n",
    "   |false|   true  |  true    |           ...\n",
    "   |false|   true  |  false |\n",
    "   |false|   false |  true |\n",
    "   |false|   false |  false |\n",
    "\n",
    "\n",
    "\n"
   ]
  },
  {
   "cell_type": "code",
   "execution_count": 52,
   "id": "kDOggM2AMHn2",
   "metadata": {
    "id": "kDOggM2AMHn2"
   },
   "outputs": [
    {
     "name": "stdout",
     "output_type": "stream",
     "text": [
      "(True, True, False)\n",
      "(False, True, True)\n",
      "(True, True, True)\n",
      "(False, True, True)\n",
      "(True, True, False)\n",
      "(False, True, True)\n",
      "(True, False, True)\n",
      "(True, False, True)\n"
     ]
    }
   ],
   "source": [
    "def waardering(m, a, j):\n",
    "    uitspraak1 = True if (not (m or a) or j) else False\n",
    "    uitspraak2 = True if (m or a) else False\n",
    "    uitspraak3 = True if (not (a and j)) else False\n",
    "    return uitspraak1, uitspraak2, uitspraak3\n",
    "\n",
    "print(waardering(1,1,1))\n",
    "print(waardering(1,1,0))\n",
    "print(waardering(1,0,1))\n",
    "print(waardering(1,0,0))\n",
    "print(waardering(0,1,1))\n",
    "print(waardering(0,1,0))\n",
    "print(waardering(0,0,1))\n",
    "print(waardering(0,0,0))\n"
   ]
  },
  {
   "cell_type": "markdown",
   "id": "678fb993-c794-4064-b010-56a49002747a",
   "metadata": {
    "id": "678fb993-c794-4064-b010-56a49002747a"
   },
   "source": [
    "### Oefening 12"
   ]
  },
  {
   "cell_type": "markdown",
   "id": "5977f8dd-a90b-41d5-9e7c-6fb88dc9675b",
   "metadata": {
    "id": "5977f8dd-a90b-41d5-9e7c-6fb88dc9675b"
   },
   "source": [
    "Schrijf een (set van) condities om na te gaan of een datum een geldige datum is. Bijvoorbeeld, 30 februari zou ongeldig moeten zijn, 29 februari is geldig in een schrikkeljaar maar anders niet, 31 november bestaat ook niet enzovoorts. Een datum mag je voorstellen door 3 int getallen. Je schrijft enkel logische condities, je maakt geen gebruik van if-testen of de datetime module.\n",
    "\n",
    "Een jaartal kan je begrensen tussen het jaar 1900 en het huidige jaar."
   ]
  },
  {
   "cell_type": "code",
   "execution_count": 72,
   "id": "jwHpaJ4SrOQT",
   "metadata": {
    "id": "jwHpaJ4SrOQT"
   },
   "outputs": [
    {
     "name": "stdout",
     "output_type": "stream",
     "text": [
      "True\n"
     ]
    }
   ],
   "source": [
    "def geldige_datum(day, month, year):\n",
    "    year_and_month_check = True if ((year >= 1900) and (year <= 2023)) and (month >= 0 and month <=12) else False\n",
    "    month_31 = True if  ((month == 1) or (month == 3) or (month == 5) or (month == 7) or (month == 8) or (month == 10) or (month == 12)) else False\n",
    "    month_30 = True if  ((month == 4) or (month == 6) or (month == 9) or (month == 11)) else False\n",
    "    month_29 = True if  (schrikkeljaar(year) and (month == 2)) else False\n",
    "    month_28 = True if  ((month == 2)) else False\n",
    "\n",
    "    day_check = True if (day >= 1 and ((month_31 and (day <= 31)) or (month_30 and (day <= 30)) or (month_29 and (day <= 29)) or (month_28 and (day <= 28))) )else False\n",
    "    \n",
    "    return year_and_month_check and day_check\n",
    "\n",
    "print(geldige_datum(29, 2, 2020))\n",
    "\n",
    "\n"
   ]
  },
  {
   "cell_type": "markdown",
   "id": "ISGZnU8-9NtU",
   "metadata": {
    "id": "ISGZnU8-9NtU"
   },
   "source": [
    "### Oefening 13\n",
    "\n",
    "Gebruik een ternaire operator om de zelf de functie _absolute_waarde_ te implementeren in Python. Je doet dit uiteraard zonder gebruik te maken van de voorgedefinieerde _abs()_ functie."
   ]
  },
  {
   "cell_type": "code",
   "execution_count": 54,
   "id": "Jvxdw5vNrQV_",
   "metadata": {
    "id": "Jvxdw5vNrQV_"
   },
   "outputs": [
    {
     "name": "stdout",
     "output_type": "stream",
     "text": [
      "10\n"
     ]
    }
   ],
   "source": [
    "def absolute_waarde(waarde):\n",
    "    waarde = -waarde if waarde<0 else waarde\n",
    "    return waarde\n",
    "print(absolute_waarde(-10))"
   ]
  },
  {
   "cell_type": "markdown",
   "id": "rnR6prnz2cEm",
   "metadata": {
    "id": "rnR6prnz2cEm"
   },
   "source": [
    "### Oefening 14\n",
    "\n",
    "Schrijf een functie die de nieuwe Belgische nummerplaten van 7 karakters in de vorm:\n",
    "\n",
    "cijfer1-letter1letter2letter3-cijfer2cijfer3cijfer4\n",
    "\n",
    "als input krijgt. Ga na of de combinatie cijfer1cijfer2cijfer3cijfer4\n",
    "een veelvoud is van 4.\n",
    "Gebruik de ternaire operator om uit te printen of het gevormde cijfer wel of niet hieraan voldoet.\n",
    "\n",
    "```\n",
    "print(nummerplaat(\"1-abc-003\"))\n",
    ">> Het getal 1003 is niet deelbaar door 4\n",
    "```"
   ]
  },
  {
   "cell_type": "code",
   "execution_count": 65,
   "id": "p9t3jwIV4Xiy",
   "metadata": {
    "id": "p9t3jwIV4Xiy"
   },
   "outputs": [
    {
     "name": "stdout",
     "output_type": "stream",
     "text": [
      "Het getal 1003 is niet deelbaar door 4\n",
      "Het getal 1004 is deelbaar door 4\n"
     ]
    }
   ],
   "source": [
    "def nummerplaat(string):\n",
    "    cijfer1 = string[0]\n",
    "    cijfer2 = string[6]\n",
    "    cijfer3 = string[7]\n",
    "    cijfer4 = string[8]\n",
    "\n",
    "    getal = int(cijfer1+cijfer2+cijfer3+cijfer4)\n",
    "    deelbaar = True if ( getal % 4 == 0) else False\n",
    "\n",
    "    return f\"Het getal {getal} is deelbaar door 4\" if (deelbaar == True) else f\"Het getal {getal} is niet deelbaar door 4\"\n",
    "\n",
    "print(nummerplaat(\"1-abc-003\"))\n",
    "print(nummerplaat(\"1-abc-004\"))"
   ]
  },
  {
   "cell_type": "markdown",
   "id": "incci7v65GvR",
   "metadata": {
    "id": "incci7v65GvR"
   },
   "source": [
    "### Oefening 15\n",
    "\n",
    " Op een online webshop kan je producten kopen. Schrijf een functie die de juiste korting berekent voor een gegeven winkelwagentje. Input is het aantal gekochte producten en het bedrag zonder korting. Je programma geef een string terug met hierin de korting en het bedrag na korting. Als je 4 of meer producten koopt, krijg je 30% korting, als je 3 producten koopt 15%, bij 1 of 2 producten 10%. Neem de percentages korting op als constanten in je programma, gebruik een ternaire operator.\n",
    "\n",
    " ```\n",
    " print(korting(3,75))\n",
    " >> Je kocht 3 stuks, je korting bedraagt dus 15%, je bedrag na korting is 63.75\n",
    "\n",
    " ```"
   ]
  },
  {
   "cell_type": "code",
   "execution_count": 66,
   "id": "HlNkY1KbrUYa",
   "metadata": {
    "id": "HlNkY1KbrUYa"
   },
   "outputs": [
    {
     "name": "stdout",
     "output_type": "stream",
     "text": [
      "Je kocht 3 stuks, je korting bedraagt dus 15%, je bedrag na korting is 63.75\n"
     ]
    }
   ],
   "source": [
    "def korting(aantal, prijs):\n",
    "    korting = 30 if (aantal >= 4) else 15 if (aantal == 3) else 10\n",
    "    betaald = prijs - (prijs * (korting / 100))\n",
    "    return f\"Je kocht {aantal} stuks, je korting bedraagt dus {korting}%, je bedrag na korting is {betaald}\"\n",
    "\n",
    "print(korting(3,75))"
   ]
  },
  {
   "cell_type": "markdown",
   "id": "s0PHOTo21ndg",
   "metadata": {
    "id": "s0PHOTo21ndg"
   },
   "source": [
    "### Oefening 16\n",
    "Schrijf een Python functie die gegeven een aantal seconden, deze omzet naar de vorm HH:MM:SS.\n",
    "\n",
    "Maak gebruik van de ternaire operator om te bepalen wanneer een extra 0 vooraan moet afgedrukt worden\n",
    "\n",
    "Voorbeeld\n",
    "\n",
    "```\n",
    "print(layout_seconden(155))\n",
    ">> 00:02:35\n",
    "```\n",
    "\n",
    "Het aantal seconden moet in een dag passen, dus ga ervanuit dat het ingegeven getal kleiner is dan het aantal seconden in een dag."
   ]
  },
  {
   "cell_type": "code",
   "execution_count": 2,
   "id": "RVzDD5ZHqG62",
   "metadata": {
    "id": "RVzDD5ZHqG62"
   },
   "outputs": [
    {
     "name": "stdout",
     "output_type": "stream",
     "text": [
      "00:02:35\n"
     ]
    }
   ],
   "source": [
    "def layout(seconden):\n",
    "    uren = seconden // 3600\n",
    "    seconden = seconden % 3600\n",
    "\n",
    "    minuten = seconden // 60\n",
    "    seconden = seconden % 60\n",
    "\n",
    "    uren = f\"0{uren}\" if uren< 9 else uren\n",
    "    minuten = f\"0{minuten}\" if minuten< 9 else minuten\n",
    "    seconden = f\"0{seconden}\" if seconden< 9 else seconden\n",
    "\n",
    "    return f\"{uren}:{minuten}:{seconden}\"\n",
    "\n",
    "print(layout(155))"
   ]
  }
 ],
 "metadata": {
  "colab": {
   "provenance": []
  },
  "kernelspec": {
   "display_name": "Python 3 (ipykernel)",
   "language": "python",
   "name": "python3"
  },
  "language_info": {
   "codemirror_mode": {
    "name": "ipython",
    "version": 3
   },
   "file_extension": ".py",
   "mimetype": "text/x-python",
   "name": "python",
   "nbconvert_exporter": "python",
   "pygments_lexer": "ipython3",
   "version": "3.10.11"
  }
 },
 "nbformat": 4,
 "nbformat_minor": 5
}
